{
 "cells": [
  {
   "cell_type": "markdown",
   "metadata": {
    "vscode": {
     "languageId": "plaintext"
    }
   },
   "source": [
    "Copyright **`(c)`** 2024 Giovanni Squillero `<giovanni.squillero@polito.it>`  \n",
    "[`https://github.com/squillero/computational-intelligence`](https://github.com/squillero/computational-intelligence)  \n",
    "Free under certain conditions — see the [`license`](https://github.com/squillero/computational-intelligence/blob/master/LICENSE.md) for details.  "
   ]
  },
  {
   "cell_type": "code",
   "execution_count": 74,
   "metadata": {},
   "outputs": [],
   "source": [
    "from collections import namedtuple\n",
    "from random import choice,seed\n",
    "from tqdm.auto import tqdm\n",
    "import numpy as np\n",
    "from icecream import ic\n",
    "\n",
    "SEED = 4\n",
    "seed(SEED)"
   ]
  },
  {
   "cell_type": "code",
   "execution_count": 75,
   "metadata": {},
   "outputs": [
    {
     "data": {
      "text/plain": [
       "array([[1, 2],\n",
       "       [3, 0]])"
      ]
     },
     "execution_count": 75,
     "metadata": {},
     "output_type": "execute_result"
    }
   ],
   "source": [
    "PUZZLE_DIM = 2\n",
    "action = namedtuple('Action', ['pos1', 'pos2'])\n",
    "\n",
    "objective=[]\n",
    "for i in range(PUZZLE_DIM):\n",
    "    locobjective=[]\n",
    "    for k in range(PUZZLE_DIM):\n",
    "        locobjective.append(k+1+i*PUZZLE_DIM)\n",
    "    \n",
    "    objective.append(locobjective)\n",
    "objective[-1][-1]=0\n",
    "objective=np.array(objective)\n",
    "objective"
   ]
  },
  {
   "cell_type": "code",
   "execution_count": 76,
   "metadata": {},
   "outputs": [],
   "source": [
    "def available_actions(state: np.ndarray) -> list['Action']:\n",
    "    x, y = [int(_[0]) for _ in np.where(state == 0)]\n",
    "    actions = list()\n",
    "    if x > 0:\n",
    "        actions.append(action((x, y), (x - 1, y)))\n",
    "    if x < PUZZLE_DIM - 1:\n",
    "        actions.append(action((x, y), (x + 1, y)))\n",
    "    if y > 0:\n",
    "        actions.append(action((x, y), (x, y - 1)))\n",
    "    if y < PUZZLE_DIM - 1:\n",
    "        actions.append(action((x, y), (x, y + 1)))\n",
    "    return actions\n",
    "\n",
    "\n",
    "\n",
    "def do_action(state: np.ndarray, action: 'Action') -> np.ndarray:\n",
    "    new_state = state.copy()\n",
    "    new_state[action.pos1], new_state[action.pos2] = new_state[action.pos2], new_state[action.pos1]\n",
    "    return new_state"
   ]
  },
  {
   "cell_type": "code",
   "execution_count": 77,
   "metadata": {},
   "outputs": [
    {
     "data": {
      "application/vnd.jupyter.widget-view+json": {
       "model_id": "df7a6b8920d4494bbcc9b4b295cc909f",
       "version_major": 2,
       "version_minor": 0
      },
      "text/plain": [
       "Randomizing:   0%|          | 0/100000 [00:00<?, ?it/s]"
      ]
     },
     "metadata": {},
     "output_type": "display_data"
    },
    {
     "data": {
      "text/plain": [
       "array([[2, 3],\n",
       "       [1, 0]])"
      ]
     },
     "execution_count": 77,
     "metadata": {},
     "output_type": "execute_result"
    }
   ],
   "source": [
    "RANDOMIZE_STEPS = 100_000\n",
    "state = np.array([i for i in range(1, PUZZLE_DIM**2)] + [0]).reshape((PUZZLE_DIM, PUZZLE_DIM))\n",
    "for r in tqdm(range(RANDOMIZE_STEPS), desc='Randomizing'):\n",
    "    state = do_action(state, choice(available_actions(state)))\n",
    "state"
   ]
  },
  {
   "cell_type": "code",
   "execution_count": null,
   "metadata": {},
   "outputs": [
    {
     "name": "stderr",
     "output_type": "stream",
     "text": [
      "ic| state: array([[2, 3],\n",
      "                  [1, 0]])\n",
      "ic| objective: array([[1, 2],\n",
      "                      [3, 0]])\n",
      "ic| actions: [Action(pos1=(1, 1), pos2=(0, 1)), Action(pos1=(1, 1), pos2=(1, 0))]\n",
      "ic| state: array([[2, 0],\n",
      "                  [1, 3]])\n",
      "ic| actions: [Action(pos1=(0, 1), pos2=(1, 1)), Action(pos1=(0, 1), pos2=(0, 0))]\n",
      "ic| state: array([[0, 2],\n",
      "                  [1, 3]])\n",
      "ic| actions: [Action(pos1=(0, 0), pos2=(1, 0)), Action(pos1=(0, 0), pos2=(0, 1))]\n",
      "ic| state: array([[1, 2],\n",
      "                  [0, 3]])\n",
      "ic| actions: [Action(pos1=(1, 0), pos2=(0, 0)), Action(pos1=(1, 0), pos2=(1, 1))]\n",
      "ic| state: array([[1, 2],\n",
      "                  [3, 0]])\n",
      "ic| distancefun(state,objective): np.int64(0)\n"
     ]
    }
   ],
   "source": [
    "#state2 = do_action(state, available_actions(state)[0])\n",
    "ic(state)\n",
    "ic(objective)\n",
    "\n",
    "\n",
    "def distanceEuclidean(state,objective):\n",
    "    distance =0\n",
    "\n",
    "\n",
    "    for value in range(PUZZLE_DIM**PUZZLE_DIM):\n",
    "        # Find the position of the element in both arrays\n",
    "        pos_state = np.argwhere(state == value)[0]\n",
    "        pos_objective = np.argwhere(objective == value)[0]\n",
    "        \n",
    "        # Compute the Euclidean distance between the positions\n",
    "        distance += np.sqrt(np.sum((pos_state - pos_objective) ** 2))\n",
    "    return distance\n",
    "    \n",
    "\n",
    "def distanceManhattan(state, objective):\n",
    "    distance = 0\n",
    "    \n",
    "    # Iterate over each unique element in the arrays (assuming numbers from 1 to PUZZLE_DIM**2 - 1)\n",
    "    for value in range(1, PUZZLE_DIM**2):\n",
    "        # Find the position of the element in both arrays\n",
    "        pos_state = np.argwhere(state == value)[0]\n",
    "        pos_objective = np.argwhere(objective == value)[0]\n",
    "        \n",
    "        # Compute the Manhattan distance between the positions\n",
    "        distance += np.sum(np.abs(pos_state - pos_objective))\n",
    "    \n",
    "    return distance\n",
    "\n",
    "\n",
    "def astar(state,objective,distancefun):\n",
    "    cost=0\n",
    "    globcost=0\n",
    "\n",
    "    while distancefun(state,objective)>0:\n",
    "        actions=available_actions(state)\n",
    "        ic(actions)\n",
    "        hcosts=np.zeros(len(actions))\n",
    "        for ia in range(len(actions)):\n",
    "            hcosts[ia]=distancefun(do_action(state,actions[ia]),objective)\n",
    "        indexBest=np.argmin(hcosts)\n",
    "        state=do_action(state,actions[indexBest])\n",
    "        ic(state)\n",
    "        cost+=1\n",
    "        globcost=cost+hcosts[indexBest]  #??\n",
    "\n",
    "\n",
    "        \n",
    "\n",
    "\n",
    "    ic(distancefun(state,objective))\n",
    "\n",
    "\n",
    "\n",
    "\n",
    "#ris=distanceEuclidean(state,objective)\n",
    "#ris2=distanceManhattan(state,objective)\n",
    "\n",
    "\n",
    "astar(state,objective,distanceManhattan)  # xe uso euclidea non funziona perche non è ammissibile (penso)\n",
    "#ic(ris2)\n",
    "    "
   ]
  }
 ],
 "metadata": {
  "kernelspec": {
   "display_name": "ci-8cno21nT-py3.12",
   "language": "python",
   "name": "python3"
  },
  "language_info": {
   "codemirror_mode": {
    "name": "ipython",
    "version": 3
   },
   "file_extension": ".py",
   "mimetype": "text/x-python",
   "name": "python",
   "nbconvert_exporter": "python",
   "pygments_lexer": "ipython3",
   "version": "3.12.3"
  }
 },
 "nbformat": 4,
 "nbformat_minor": 2
}
